{
 "cells": [
  {
   "cell_type": "code",
   "execution_count": 29,
   "metadata": {},
   "outputs": [
    {
     "name": "stdout",
     "output_type": "stream",
     "text": [
      "(54, 13)\n",
      "result: 0.9259259259259259\n"
     ]
    }
   ],
   "source": [
    "import matplotlib\n",
    "from sklearn import tree\n",
    "from sklearn.datasets import load_wine\n",
    "# 分测试集和训练集的类\n",
    "from sklearn.model_selection import train_test_split\n",
    "\n",
    "import matplotlib.pyplot as plt\n",
    "# 画树\n",
    "import graphviz\n",
    "# 用于转换表格\n",
    "import pandas as pd\n",
    "\n",
    "# 实例化\n",
    "wine = load_wine()\n",
    "\n",
    "X_train, X_test, y_train, y_test = train_test_split(wine.data, wine.target, test_size=0.3)\n",
    "\n",
    "# print(X_train)\n",
    "# (124, 13)\n",
    "# print(X_train.shape)\n",
    "# (54, 13)\n",
    "print(X_test.shape)\n",
    "\n",
    "# 1.实例化，创建一个分类器\n",
    "# clf = tree.DecisionTreeClassifier(criterion = \"entropy\")\n",
    "clf = tree.DecisionTreeClassifier(criterion = \"gini\", random_state=15)\n",
    "\n",
    "# 用训练集数据训练模型\n",
    "clf = clf.fit(X_train, y_train)\n",
    "\n",
    "# 导入测试集，从接口中调用需要的信息，例如 score： 测试的准确度 accuracy\n",
    "result = clf.score(X_test, y_test)\n",
    "print(\"result: %5.16f\" % result)\n",
    "\n",
    "feature_name = [\n",
    "    \"酒精\", \"苹果酸\", \"灰\", \"灰的碱性\",\n",
    "    \"镁\", \"总酚\", \"类黄酮\", \"非黄烷类分类\",\n",
    "    \"花青素\", \"颜色强度\", \"色调\", \"od280/od315稀释葡萄酒\",\n",
    "    \"脯氨酸\"\n",
    "]\n",
    "# 画决策树\n",
    "# matplotlib\n",
    "\n",
    "# _ = tree.plot_tree(\n",
    "#     decision_tree = clf,\n",
    "#     feature_names = feature_name,\n",
    "#     class_names = [\"琴酒\", \"雪梨\", \"贝尔摩德\"],\n",
    "#     filled = True,\n",
    "#     rounded = True\n",
    "# )\n",
    "# graphviz\n",
    "dot_data = tree.export_graphviz(\n",
    "    decision_tree = clf,\n",
    "    feature_names = feature_name,\n",
    "    class_names = [\"琴酒\", \"雪梨\", \"贝尔摩德\"],\n",
    "    filled = True,\n",
    "    rounded = True\n",
    ")\n",
    "# graph = graphviz.Source(dot_data)\n",
    "# graph.render(filename=\"wine\", format = 'png')\n",
    "# graph"
   ]
  },
  {
   "cell_type": "code",
   "execution_count": 30,
   "metadata": {},
   "outputs": [],
   "source": [
    "# [*zip(feature_name, clf.feature_importances_)]"
   ]
  },
  {
   "cell_type": "code",
   "execution_count": null,
   "metadata": {},
   "outputs": [],
   "source": []
  }
 ],
 "metadata": {
  "interpreter": {
   "hash": "aee8b7b246df8f9039afb4144a1f6fd8d2ca17a180786b69acc140d282b71a49"
  },
  "kernelspec": {
   "display_name": "Python 3 (ipykernel)",
   "language": "python",
   "name": "python3"
  },
  "language_info": {
   "codemirror_mode": {
    "name": "ipython",
    "version": 3
   },
   "file_extension": ".py",
   "mimetype": "text/x-python",
   "name": "python",
   "nbconvert_exporter": "python",
   "pygments_lexer": "ipython3",
   "version": "3.9.9"
  }
 },
 "nbformat": 4,
 "nbformat_minor": 4
}
